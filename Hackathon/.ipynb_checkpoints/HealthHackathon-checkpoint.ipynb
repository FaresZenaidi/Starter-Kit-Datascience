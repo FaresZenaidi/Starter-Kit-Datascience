{
 "cells": [
  {
   "cell_type": "markdown",
   "metadata": {
    "collapsed": true
   },
   "source": [
    "# Health Hackathon\n",
    "\n",
    "Le but de ce hackathon est de tenter de vérifier s'il existe:\n",
    "- un lien entre la densité de médecins par spécialité et territoire et la pratique du dépassement d'honoraires\n",
    "- une corrélation entre certaines classes d'âges et la densité de médecins, etc"
   ]
  },
  {
   "cell_type": "code",
   "execution_count": 555,
   "metadata": {
    "collapsed": true
   },
   "outputs": [],
   "source": [
    "# Necessary packages import\n",
    "%matplotlib inline\n",
    "from pandas import DataFrame, Series\n",
    "import pandas as pd\n",
    "import numpy as np\n",
    "import re\n",
    "import matplotlib.pyplot as plt\n",
    "from matplotlib.collections import LineCollection\n",
    "from matplotlib import cm\n",
    "import seaborn as sns\n",
    "from pandas.tools.plotting import radviz, scatter_matrix"
   ]
  },
  {
   "cell_type": "markdown",
   "metadata": {},
   "source": [
    "## Densité de médecins par spécialité et territoire"
   ]
  },
  {
   "cell_type": "code",
   "execution_count": 556,
   "metadata": {
    "collapsed": false
   },
   "outputs": [],
   "source": [
    "# Chargement des données (issues de Etalab pour la densité de médecins par région) dans une DataFrame\n",
    "df = pd.read_csv('DensiteMedecins.csv', sep=',', encoding='utf-8')"
   ]
  },
  {
   "cell_type": "code",
   "execution_count": 557,
   "metadata": {
    "collapsed": false
   },
   "outputs": [
    {
     "data": {
      "text/plain": [
       "(57640, 5)"
      ]
     },
     "execution_count": 557,
     "metadata": {},
     "output_type": "execute_result"
    }
   ],
   "source": [
    "# Taille de df (avant modification)\n",
    "df.shape"
   ]
  },
  {
   "cell_type": "code",
   "execution_count": 558,
   "metadata": {
    "collapsed": false
   },
   "outputs": [
    {
     "data": {
      "text/html": [
       "<div>\n",
       "<table border=\"1\" class=\"dataframe\">\n",
       "  <thead>\n",
       "    <tr style=\"text-align: right;\">\n",
       "      <th></th>\n",
       "      <th>mode_exercice</th>\n",
       "      <th>zone_inscription</th>\n",
       "      <th>annee</th>\n",
       "      <th>specialite</th>\n",
       "      <th>effectifs</th>\n",
       "    </tr>\n",
       "  </thead>\n",
       "  <tbody>\n",
       "    <tr>\n",
       "      <th>0</th>\n",
       "      <td>Ensemble des modes d'exercice</td>\n",
       "      <td>FRANCE ENTIERE</td>\n",
       "      <td>2014</td>\n",
       "      <td>Ensemble des spécialités d'exercice</td>\n",
       "      <td>219834</td>\n",
       "    </tr>\n",
       "    <tr>\n",
       "      <th>1</th>\n",
       "      <td>Ensemble des modes d'exercice</td>\n",
       "      <td>FRANCE ENTIERE</td>\n",
       "      <td>2014</td>\n",
       "      <td>Spécialistes</td>\n",
       "      <td>117694</td>\n",
       "    </tr>\n",
       "    <tr>\n",
       "      <th>2</th>\n",
       "      <td>Ensemble des modes d'exercice</td>\n",
       "      <td>FRANCE ENTIERE</td>\n",
       "      <td>2014</td>\n",
       "      <td>Anatomie et cytologie pathologiques</td>\n",
       "      <td>1566</td>\n",
       "    </tr>\n",
       "    <tr>\n",
       "      <th>3</th>\n",
       "      <td>Ensemble des modes d'exercice</td>\n",
       "      <td>FRANCE ENTIERE</td>\n",
       "      <td>2014</td>\n",
       "      <td>Anesthésie-réanimation</td>\n",
       "      <td>10949</td>\n",
       "    </tr>\n",
       "    <tr>\n",
       "      <th>4</th>\n",
       "      <td>Ensemble des modes d'exercice</td>\n",
       "      <td>FRANCE ENTIERE</td>\n",
       "      <td>2014</td>\n",
       "      <td>Biologie médicale</td>\n",
       "      <td>2662</td>\n",
       "    </tr>\n",
       "  </tbody>\n",
       "</table>\n",
       "</div>"
      ],
      "text/plain": [
       "                   mode_exercice zone_inscription  annee  \\\n",
       "0  Ensemble des modes d'exercice   FRANCE ENTIERE   2014   \n",
       "1  Ensemble des modes d'exercice   FRANCE ENTIERE   2014   \n",
       "2  Ensemble des modes d'exercice   FRANCE ENTIERE   2014   \n",
       "3  Ensemble des modes d'exercice   FRANCE ENTIERE   2014   \n",
       "4  Ensemble des modes d'exercice   FRANCE ENTIERE   2014   \n",
       "\n",
       "                            specialite  effectifs  \n",
       "0  Ensemble des spécialités d'exercice     219834  \n",
       "1                         Spécialistes     117694  \n",
       "2  Anatomie et cytologie pathologiques       1566  \n",
       "3               Anesthésie-réanimation      10949  \n",
       "4                    Biologie médicale       2662  "
      ]
     },
     "execution_count": 558,
     "metadata": {},
     "output_type": "execute_result"
    }
   ],
   "source": [
    "# Affichage des 5 premières lignes\n",
    "df.head(5)"
   ]
  },
  {
   "cell_type": "code",
   "execution_count": 559,
   "metadata": {
    "collapsed": false
   },
   "outputs": [
    {
     "data": {
      "text/plain": [
       "array([\"Ensemble des modes d'exercice\", 'Libéraux exclusifs', 'Mixtes',\n",
       "       'Salariés Hospitaliers', 'Autres Salariés'], dtype=object)"
      ]
     },
     "execution_count": 559,
     "metadata": {},
     "output_type": "execute_result"
    }
   ],
   "source": [
    "# Extraction des différents mode d'exercice\n",
    "df['mode_exercice'].unique()"
   ]
  },
  {
   "cell_type": "code",
   "execution_count": 560,
   "metadata": {
    "collapsed": false
   },
   "outputs": [
    {
     "data": {
      "text/plain": [
       "array([\"Ensemble des modes d'exercice\"], dtype=object)"
      ]
     },
     "execution_count": 560,
     "metadata": {},
     "output_type": "execute_result"
    }
   ],
   "source": [
    "# Selection des lignes correspondant à l'ensemble des modes d'exercice uniquement\n",
    "df = df[df['mode_exercice'] == \"Ensemble des modes d'exercice\"]\n",
    "df['mode_exercice'].unique()"
   ]
  },
  {
   "cell_type": "code",
   "execution_count": 561,
   "metadata": {
    "collapsed": false
   },
   "outputs": [
    {
     "data": {
      "text/plain": [
       "array([2014, 2013])"
      ]
     },
     "execution_count": 561,
     "metadata": {},
     "output_type": "execute_result"
    }
   ],
   "source": [
    "# Différentes années traitées\n",
    "df['annee'].unique()"
   ]
  },
  {
   "cell_type": "code",
   "execution_count": 562,
   "metadata": {
    "collapsed": false
   },
   "outputs": [
    {
     "data": {
      "text/plain": [
       "array([2014])"
      ]
     },
     "execution_count": 562,
     "metadata": {},
     "output_type": "execute_result"
    }
   ],
   "source": [
    "# Selection des lignes correspondant à l'année 2014 uniquement\n",
    "df = df[df['annee'] == 2014]\n",
    "df.annee.unique()"
   ]
  },
  {
   "cell_type": "code",
   "execution_count": 563,
   "metadata": {
    "collapsed": false
   },
   "outputs": [
    {
     "data": {
      "text/plain": [
       "(5764, 5)"
      ]
     },
     "execution_count": 563,
     "metadata": {},
     "output_type": "execute_result"
    }
   ],
   "source": [
    "# Taille df (apres modification)\n",
    "df.shape"
   ]
  },
  {
   "cell_type": "code",
   "execution_count": 565,
   "metadata": {
    "collapsed": false
   },
   "outputs": [],
   "source": [
    "# Selection par département (zone d'inscription commencant par une lettre majuscule puis une lettre minuscule)\n",
    "# regEx = \"^[A-Z][a-z]\"\n",
    "regEx = \"^[\\d+]\"\n",
    "# df = dfdf[\"zone_inscription\"].str.match(regEx)]\n",
    "df = df[df[\"zone_inscription\"].str.contains(regEx)]\n",
    "# df.zone_inscription.unique()"
   ]
  },
  {
   "cell_type": "code",
   "execution_count": 566,
   "metadata": {
    "collapsed": false
   },
   "outputs": [],
   "source": [
    "df.zone_inscription = df.zone_inscription.apply(lambda x: \"-\".join(x.split(\"-\")[1:]))\n",
    "df.zone_inscription.str.replace(\"\\u0092\", \"'\").replace(\"\\xa0\", \"\")\n",
    "df.zone_inscription = df.zone_inscription.str.replace(\"\\u0092\", \"'\").str.replace(\"\\xa0\", \"\").str.strip()"
   ]
  },
  {
   "cell_type": "code",
   "execution_count": 567,
   "metadata": {
    "collapsed": false
   },
   "outputs": [
    {
     "name": "stdout",
     "output_type": "stream",
     "text": [
      "Nombre de départements considérés: 101 \n",
      "\n",
      "['Ain' 'Aisne' 'Allier' 'Alpes-de-Haute-Provence' 'Hautes-Alpes'\n",
      " 'Alpes-Maritimes' 'Ardèche' 'Ardennes' 'Ariège' 'Aube' 'Aude' 'Aveyron'\n",
      " 'Bouches-du-Rhône' 'Calvados' 'Cantal' 'Charente' 'Charente-Maritime'\n",
      " 'Cher' 'Corrèze' 'Corse-du-Sud' 'Haute-Corse' \"Côte-d'Or\" \"Côtes-d'Armor\"\n",
      " 'Creuse' 'Dordogne' 'Doubs' 'Drôme' 'Eure' 'Eure-et-Loir' 'Finistère'\n",
      " 'Gard' 'Haute-Garonne' 'Gers' 'Gironde' 'Hérault' 'Ille-et-Vilaine'\n",
      " 'Indre' 'Indre-et-Loire' 'Isère' 'Jura' 'Landes' 'Loir-et-Cher' 'Loire'\n",
      " 'Haute-Loire' 'Loire-Atlantique' 'Loiret' 'Lot' 'Lot-et-Garonne' 'Lozère'\n",
      " 'Maine-et-Loire' 'Manche' 'Marne' 'Haute-Marne' 'Mayenne'\n",
      " 'Meurthe-et-Moselle' 'Meuse' 'Morbihan' 'Moselle' 'Nièvre' 'Nord' 'Oise'\n",
      " 'Orne' 'Nord-Pas-de-Calais' 'Puy-de-Dôme' 'Pyrénées-Atlantiques'\n",
      " 'Hautes-Pyrénées' 'Pyrénées-Orientales' 'Bas-Rhin' 'Haut-Rhin' 'Rhône'\n",
      " 'Haute-Saône' 'Saône-et-Loire' 'Sarthe' 'Savoie' 'Haute-Savoie' 'Paris'\n",
      " 'Seine-Maritime' 'Seine-et-Marne' 'Yvelines' 'Deux-Sèvres' 'Somme' 'Tarn'\n",
      " 'Tarn-et-Garonne' 'Var' 'Vaucluse' 'Vendée' 'Vienne' 'Haute-Vienne'\n",
      " 'Vosges' 'Yonne' 'Territoire de Belfort' 'Essonne' 'Hauts-de-Seine'\n",
      " 'Seine-Saint-Denis' 'Val-de-Marne' \"Val-d'Oise\" 'Guadeloupe' 'Martinique'\n",
      " 'Guyane' 'La Réunion' 'Mayotte']\n"
     ]
    },
    {
     "data": {
      "text/html": [
       "<div>\n",
       "<table border=\"1\" class=\"dataframe\">\n",
       "  <thead>\n",
       "    <tr style=\"text-align: right;\">\n",
       "      <th></th>\n",
       "      <th>mode_exercice</th>\n",
       "      <th>zone_inscription</th>\n",
       "      <th>annee</th>\n",
       "      <th>specialite</th>\n",
       "      <th>effectifs</th>\n",
       "    </tr>\n",
       "  </thead>\n",
       "  <tbody>\n",
       "    <tr>\n",
       "      <th>2640</th>\n",
       "      <td>Ensemble des modes d'exercice</td>\n",
       "      <td>Ain</td>\n",
       "      <td>2014</td>\n",
       "      <td>Ensemble des spécialités d'exercice</td>\n",
       "      <td>1203</td>\n",
       "    </tr>\n",
       "    <tr>\n",
       "      <th>2641</th>\n",
       "      <td>Ensemble des modes d'exercice</td>\n",
       "      <td>Ain</td>\n",
       "      <td>2014</td>\n",
       "      <td>Spécialistes</td>\n",
       "      <td>509</td>\n",
       "    </tr>\n",
       "    <tr>\n",
       "      <th>2642</th>\n",
       "      <td>Ensemble des modes d'exercice</td>\n",
       "      <td>Ain</td>\n",
       "      <td>2014</td>\n",
       "      <td>Anatomie et cytologie pathologiques</td>\n",
       "      <td>3</td>\n",
       "    </tr>\n",
       "    <tr>\n",
       "      <th>2643</th>\n",
       "      <td>Ensemble des modes d'exercice</td>\n",
       "      <td>Ain</td>\n",
       "      <td>2014</td>\n",
       "      <td>Anesthésie-réanimation</td>\n",
       "      <td>33</td>\n",
       "    </tr>\n",
       "    <tr>\n",
       "      <th>2644</th>\n",
       "      <td>Ensemble des modes d'exercice</td>\n",
       "      <td>Ain</td>\n",
       "      <td>2014</td>\n",
       "      <td>Biologie médicale</td>\n",
       "      <td>9</td>\n",
       "    </tr>\n",
       "  </tbody>\n",
       "</table>\n",
       "</div>"
      ],
      "text/plain": [
       "                      mode_exercice zone_inscription  annee  \\\n",
       "2640  Ensemble des modes d'exercice              Ain   2014   \n",
       "2641  Ensemble des modes d'exercice              Ain   2014   \n",
       "2642  Ensemble des modes d'exercice              Ain   2014   \n",
       "2643  Ensemble des modes d'exercice              Ain   2014   \n",
       "2644  Ensemble des modes d'exercice              Ain   2014   \n",
       "\n",
       "                               specialite  effectifs  \n",
       "2640  Ensemble des spécialités d'exercice       1203  \n",
       "2641                         Spécialistes        509  \n",
       "2642  Anatomie et cytologie pathologiques          3  \n",
       "2643               Anesthésie-réanimation         33  \n",
       "2644                    Biologie médicale          9  "
      ]
     },
     "execution_count": 567,
     "metadata": {},
     "output_type": "execute_result"
    }
   ],
   "source": [
    "print(\"Nombre de départements considérés: {} \\n\".format(len(df.zone_inscription.unique())))\n",
    "print((df.zone_inscription.unique()))\n",
    "df.head(5)"
   ]
  },
  {
   "cell_type": "code",
   "execution_count": 574,
   "metadata": {
    "collapsed": false
   },
   "outputs": [],
   "source": [
    "# Regroupement des métiers (Généralistes, Spécialistes)\n",
    "df = df[df.specialite.isin([\"Généralistes\", \"Spécialistes\"])]\n",
    "densiteMedecins = df.groupby(\"zone_inscription\").effectifs.sum()\n",
    "dfDensiteMedecins = DataFrame(densiteMedecins).rename(columns={\"effectifs\": \"Medecins\"})\n",
    "dfDensiteMedecins.index.name = \"Departement\"\n",
    "\n",
    "# Généralistes          \n",
    "dfGeneralistes = df[df.specialite.isin([\"Généralistes\"])]\n",
    "densiteGeneralistes = dfGeneralistes.groupby(\"zone_inscription\").effectifs.sum()\n",
    "dfDensiteGeneralistes = DataFrame(densiteGeneralistes).rename(columns={\"effectifs\": \"Generalistes\"})\n",
    "dfDensiteGeneralistes.index.name = \"Departement\"\n",
    "                    \n",
    "# Spécialistes\n",
    "dfSpecialistes = df[df.specialite.isin([\"Spécialistes\"])]\n",
    "densiteSpecialistes = dfSpecialistes.groupby(\"zone_inscription\").effectifs.sum()    \n",
    "dfDensiteSpecialistes = DataFrame(densiteSpecialistes).rename(columns={\"effectifs\": \"Specialistes\"})\n",
    "dfDensiteSpecialistes.index.name = \"Departement\"                    "
   ]
  },
  {
   "cell_type": "code",
   "execution_count": 577,
   "metadata": {
    "collapsed": false
   },
   "outputs": [
    {
     "data": {
      "text/html": [
       "<div>\n",
       "<table border=\"1\" class=\"dataframe\">\n",
       "  <thead>\n",
       "    <tr style=\"text-align: right;\">\n",
       "      <th></th>\n",
       "      <th>Medecins</th>\n",
       "      <th>Generalistes</th>\n",
       "      <th>Specialistes</th>\n",
       "    </tr>\n",
       "    <tr>\n",
       "      <th>Departement</th>\n",
       "      <th></th>\n",
       "      <th></th>\n",
       "      <th></th>\n",
       "    </tr>\n",
       "  </thead>\n",
       "  <tbody>\n",
       "    <tr>\n",
       "      <th>Ain</th>\n",
       "      <td>1203</td>\n",
       "      <td>694</td>\n",
       "      <td>509</td>\n",
       "    </tr>\n",
       "    <tr>\n",
       "      <th>Aisne</th>\n",
       "      <td>1235</td>\n",
       "      <td>626</td>\n",
       "      <td>609</td>\n",
       "    </tr>\n",
       "    <tr>\n",
       "      <th>Allier</th>\n",
       "      <td>966</td>\n",
       "      <td>506</td>\n",
       "      <td>460</td>\n",
       "    </tr>\n",
       "    <tr>\n",
       "      <th>Alpes-Maritimes</th>\n",
       "      <td>4889</td>\n",
       "      <td>2051</td>\n",
       "      <td>2838</td>\n",
       "    </tr>\n",
       "    <tr>\n",
       "      <th>Alpes-de-Haute-Provence</th>\n",
       "      <td>485</td>\n",
       "      <td>293</td>\n",
       "      <td>192</td>\n",
       "    </tr>\n",
       "    <tr>\n",
       "      <th>Ardennes</th>\n",
       "      <td>655</td>\n",
       "      <td>382</td>\n",
       "      <td>273</td>\n",
       "    </tr>\n",
       "    <tr>\n",
       "      <th>Ardèche</th>\n",
       "      <td>790</td>\n",
       "      <td>415</td>\n",
       "      <td>375</td>\n",
       "    </tr>\n",
       "    <tr>\n",
       "      <th>Ariège</th>\n",
       "      <td>439</td>\n",
       "      <td>271</td>\n",
       "      <td>168</td>\n",
       "    </tr>\n",
       "    <tr>\n",
       "      <th>Aube</th>\n",
       "      <td>734</td>\n",
       "      <td>379</td>\n",
       "      <td>355</td>\n",
       "    </tr>\n",
       "    <tr>\n",
       "      <th>Aude</th>\n",
       "      <td>1083</td>\n",
       "      <td>567</td>\n",
       "      <td>516</td>\n",
       "    </tr>\n",
       "    <tr>\n",
       "      <th>Aveyron</th>\n",
       "      <td>738</td>\n",
       "      <td>409</td>\n",
       "      <td>329</td>\n",
       "    </tr>\n",
       "    <tr>\n",
       "      <th>Bas-Rhin</th>\n",
       "      <td>4343</td>\n",
       "      <td>1892</td>\n",
       "      <td>2451</td>\n",
       "    </tr>\n",
       "    <tr>\n",
       "      <th>Bouches-du-Rhône</th>\n",
       "      <td>8832</td>\n",
       "      <td>3738</td>\n",
       "      <td>5094</td>\n",
       "    </tr>\n",
       "    <tr>\n",
       "      <th>Calvados</th>\n",
       "      <td>2410</td>\n",
       "      <td>1110</td>\n",
       "      <td>1300</td>\n",
       "    </tr>\n",
       "    <tr>\n",
       "      <th>Cantal</th>\n",
       "      <td>417</td>\n",
       "      <td>246</td>\n",
       "      <td>171</td>\n",
       "    </tr>\n",
       "    <tr>\n",
       "      <th>Charente</th>\n",
       "      <td>931</td>\n",
       "      <td>510</td>\n",
       "      <td>421</td>\n",
       "    </tr>\n",
       "    <tr>\n",
       "      <th>Charente-Maritime</th>\n",
       "      <td>1949</td>\n",
       "      <td>1056</td>\n",
       "      <td>893</td>\n",
       "    </tr>\n",
       "    <tr>\n",
       "      <th>Cher</th>\n",
       "      <td>679</td>\n",
       "      <td>364</td>\n",
       "      <td>315</td>\n",
       "    </tr>\n",
       "    <tr>\n",
       "      <th>Corrèze</th>\n",
       "      <td>692</td>\n",
       "      <td>368</td>\n",
       "      <td>324</td>\n",
       "    </tr>\n",
       "    <tr>\n",
       "      <th>Corse-du-Sud</th>\n",
       "      <td>462</td>\n",
       "      <td>239</td>\n",
       "      <td>223</td>\n",
       "    </tr>\n",
       "    <tr>\n",
       "      <th>Creuse</th>\n",
       "      <td>300</td>\n",
       "      <td>187</td>\n",
       "      <td>113</td>\n",
       "    </tr>\n",
       "    <tr>\n",
       "      <th>Côte-d'Or</th>\n",
       "      <td>1997</td>\n",
       "      <td>873</td>\n",
       "      <td>1124</td>\n",
       "    </tr>\n",
       "    <tr>\n",
       "      <th>Côtes-d'Armor</th>\n",
       "      <td>1592</td>\n",
       "      <td>877</td>\n",
       "      <td>715</td>\n",
       "    </tr>\n",
       "    <tr>\n",
       "      <th>Deux-Sèvres</th>\n",
       "      <td>887</td>\n",
       "      <td>526</td>\n",
       "      <td>361</td>\n",
       "    </tr>\n",
       "    <tr>\n",
       "      <th>Dordogne</th>\n",
       "      <td>994</td>\n",
       "      <td>588</td>\n",
       "      <td>406</td>\n",
       "    </tr>\n",
       "    <tr>\n",
       "      <th>Doubs</th>\n",
       "      <td>1935</td>\n",
       "      <td>906</td>\n",
       "      <td>1029</td>\n",
       "    </tr>\n",
       "    <tr>\n",
       "      <th>Drôme</th>\n",
       "      <td>1483</td>\n",
       "      <td>737</td>\n",
       "      <td>746</td>\n",
       "    </tr>\n",
       "    <tr>\n",
       "      <th>Essonne</th>\n",
       "      <td>3346</td>\n",
       "      <td>1617</td>\n",
       "      <td>1729</td>\n",
       "    </tr>\n",
       "    <tr>\n",
       "      <th>Eure</th>\n",
       "      <td>1070</td>\n",
       "      <td>637</td>\n",
       "      <td>433</td>\n",
       "    </tr>\n",
       "    <tr>\n",
       "      <th>Eure-et-Loir</th>\n",
       "      <td>964</td>\n",
       "      <td>491</td>\n",
       "      <td>473</td>\n",
       "    </tr>\n",
       "    <tr>\n",
       "      <th>...</th>\n",
       "      <td>...</td>\n",
       "      <td>...</td>\n",
       "      <td>...</td>\n",
       "    </tr>\n",
       "    <tr>\n",
       "      <th>Moselle</th>\n",
       "      <td>2785</td>\n",
       "      <td>1392</td>\n",
       "      <td>1393</td>\n",
       "    </tr>\n",
       "    <tr>\n",
       "      <th>Nièvre</th>\n",
       "      <td>507</td>\n",
       "      <td>282</td>\n",
       "      <td>225</td>\n",
       "    </tr>\n",
       "    <tr>\n",
       "      <th>Nord</th>\n",
       "      <td>8910</td>\n",
       "      <td>4254</td>\n",
       "      <td>4656</td>\n",
       "    </tr>\n",
       "    <tr>\n",
       "      <th>Nord-Pas-de-Calais</th>\n",
       "      <td>3671</td>\n",
       "      <td>2060</td>\n",
       "      <td>1611</td>\n",
       "    </tr>\n",
       "    <tr>\n",
       "      <th>Oise</th>\n",
       "      <td>1817</td>\n",
       "      <td>970</td>\n",
       "      <td>847</td>\n",
       "    </tr>\n",
       "    <tr>\n",
       "      <th>Orne</th>\n",
       "      <td>673</td>\n",
       "      <td>381</td>\n",
       "      <td>292</td>\n",
       "    </tr>\n",
       "    <tr>\n",
       "      <th>Paris</th>\n",
       "      <td>18133</td>\n",
       "      <td>5473</td>\n",
       "      <td>12660</td>\n",
       "    </tr>\n",
       "    <tr>\n",
       "      <th>Puy-de-Dôme</th>\n",
       "      <td>2310</td>\n",
       "      <td>1026</td>\n",
       "      <td>1284</td>\n",
       "    </tr>\n",
       "    <tr>\n",
       "      <th>Pyrénées-Atlantiques</th>\n",
       "      <td>2500</td>\n",
       "      <td>1225</td>\n",
       "      <td>1275</td>\n",
       "    </tr>\n",
       "    <tr>\n",
       "      <th>Pyrénées-Orientales</th>\n",
       "      <td>1596</td>\n",
       "      <td>846</td>\n",
       "      <td>750</td>\n",
       "    </tr>\n",
       "    <tr>\n",
       "      <th>Rhône</th>\n",
       "      <td>7750</td>\n",
       "      <td>3112</td>\n",
       "      <td>4638</td>\n",
       "    </tr>\n",
       "    <tr>\n",
       "      <th>Sarthe</th>\n",
       "      <td>1350</td>\n",
       "      <td>713</td>\n",
       "      <td>637</td>\n",
       "    </tr>\n",
       "    <tr>\n",
       "      <th>Savoie</th>\n",
       "      <td>1457</td>\n",
       "      <td>779</td>\n",
       "      <td>678</td>\n",
       "    </tr>\n",
       "    <tr>\n",
       "      <th>Saône-et-Loire</th>\n",
       "      <td>1434</td>\n",
       "      <td>725</td>\n",
       "      <td>709</td>\n",
       "    </tr>\n",
       "    <tr>\n",
       "      <th>Seine-Maritime</th>\n",
       "      <td>4015</td>\n",
       "      <td>1892</td>\n",
       "      <td>2123</td>\n",
       "    </tr>\n",
       "    <tr>\n",
       "      <th>Seine-Saint-Denis</th>\n",
       "      <td>4158</td>\n",
       "      <td>1942</td>\n",
       "      <td>2216</td>\n",
       "    </tr>\n",
       "    <tr>\n",
       "      <th>Seine-et-Marne</th>\n",
       "      <td>3063</td>\n",
       "      <td>1495</td>\n",
       "      <td>1568</td>\n",
       "    </tr>\n",
       "    <tr>\n",
       "      <th>Somme</th>\n",
       "      <td>1923</td>\n",
       "      <td>964</td>\n",
       "      <td>959</td>\n",
       "    </tr>\n",
       "    <tr>\n",
       "      <th>Tarn</th>\n",
       "      <td>1157</td>\n",
       "      <td>582</td>\n",
       "      <td>575</td>\n",
       "    </tr>\n",
       "    <tr>\n",
       "      <th>Tarn-et-Garonne</th>\n",
       "      <td>665</td>\n",
       "      <td>353</td>\n",
       "      <td>312</td>\n",
       "    </tr>\n",
       "    <tr>\n",
       "      <th>Territoire de Belfort</th>\n",
       "      <td>397</td>\n",
       "      <td>204</td>\n",
       "      <td>193</td>\n",
       "    </tr>\n",
       "    <tr>\n",
       "      <th>Val-d'Oise</th>\n",
       "      <td>3142</td>\n",
       "      <td>1456</td>\n",
       "      <td>1686</td>\n",
       "    </tr>\n",
       "    <tr>\n",
       "      <th>Val-de-Marne</th>\n",
       "      <td>5067</td>\n",
       "      <td>1889</td>\n",
       "      <td>3178</td>\n",
       "    </tr>\n",
       "    <tr>\n",
       "      <th>Var</th>\n",
       "      <td>3587</td>\n",
       "      <td>1739</td>\n",
       "      <td>1848</td>\n",
       "    </tr>\n",
       "    <tr>\n",
       "      <th>Vaucluse</th>\n",
       "      <td>1871</td>\n",
       "      <td>912</td>\n",
       "      <td>959</td>\n",
       "    </tr>\n",
       "    <tr>\n",
       "      <th>Vendée</th>\n",
       "      <td>1451</td>\n",
       "      <td>842</td>\n",
       "      <td>609</td>\n",
       "    </tr>\n",
       "    <tr>\n",
       "      <th>Vienne</th>\n",
       "      <td>1495</td>\n",
       "      <td>688</td>\n",
       "      <td>807</td>\n",
       "    </tr>\n",
       "    <tr>\n",
       "      <th>Vosges</th>\n",
       "      <td>961</td>\n",
       "      <td>545</td>\n",
       "      <td>416</td>\n",
       "    </tr>\n",
       "    <tr>\n",
       "      <th>Yonne</th>\n",
       "      <td>802</td>\n",
       "      <td>456</td>\n",
       "      <td>346</td>\n",
       "    </tr>\n",
       "    <tr>\n",
       "      <th>Yvelines</th>\n",
       "      <td>4321</td>\n",
       "      <td>1913</td>\n",
       "      <td>2408</td>\n",
       "    </tr>\n",
       "  </tbody>\n",
       "</table>\n",
       "<p>101 rows × 3 columns</p>\n",
       "</div>"
      ],
      "text/plain": [
       "                         Medecins  Generalistes  Specialistes\n",
       "Departement                                                  \n",
       "Ain                          1203           694           509\n",
       "Aisne                        1235           626           609\n",
       "Allier                        966           506           460\n",
       "Alpes-Maritimes              4889          2051          2838\n",
       "Alpes-de-Haute-Provence       485           293           192\n",
       "Ardennes                      655           382           273\n",
       "Ardèche                       790           415           375\n",
       "Ariège                        439           271           168\n",
       "Aube                          734           379           355\n",
       "Aude                         1083           567           516\n",
       "Aveyron                       738           409           329\n",
       "Bas-Rhin                     4343          1892          2451\n",
       "Bouches-du-Rhône             8832          3738          5094\n",
       "Calvados                     2410          1110          1300\n",
       "Cantal                        417           246           171\n",
       "Charente                      931           510           421\n",
       "Charente-Maritime            1949          1056           893\n",
       "Cher                          679           364           315\n",
       "Corrèze                       692           368           324\n",
       "Corse-du-Sud                  462           239           223\n",
       "Creuse                        300           187           113\n",
       "Côte-d'Or                    1997           873          1124\n",
       "Côtes-d'Armor                1592           877           715\n",
       "Deux-Sèvres                   887           526           361\n",
       "Dordogne                      994           588           406\n",
       "Doubs                        1935           906          1029\n",
       "Drôme                        1483           737           746\n",
       "Essonne                      3346          1617          1729\n",
       "Eure                         1070           637           433\n",
       "Eure-et-Loir                  964           491           473\n",
       "...                           ...           ...           ...\n",
       "Moselle                      2785          1392          1393\n",
       "Nièvre                        507           282           225\n",
       "Nord                         8910          4254          4656\n",
       "Nord-Pas-de-Calais           3671          2060          1611\n",
       "Oise                         1817           970           847\n",
       "Orne                          673           381           292\n",
       "Paris                       18133          5473         12660\n",
       "Puy-de-Dôme                  2310          1026          1284\n",
       "Pyrénées-Atlantiques         2500          1225          1275\n",
       "Pyrénées-Orientales          1596           846           750\n",
       "Rhône                        7750          3112          4638\n",
       "Sarthe                       1350           713           637\n",
       "Savoie                       1457           779           678\n",
       "Saône-et-Loire               1434           725           709\n",
       "Seine-Maritime               4015          1892          2123\n",
       "Seine-Saint-Denis            4158          1942          2216\n",
       "Seine-et-Marne               3063          1495          1568\n",
       "Somme                        1923           964           959\n",
       "Tarn                         1157           582           575\n",
       "Tarn-et-Garonne               665           353           312\n",
       "Territoire de Belfort         397           204           193\n",
       "Val-d'Oise                   3142          1456          1686\n",
       "Val-de-Marne                 5067          1889          3178\n",
       "Var                          3587          1739          1848\n",
       "Vaucluse                     1871           912           959\n",
       "Vendée                       1451           842           609\n",
       "Vienne                       1495           688           807\n",
       "Vosges                        961           545           416\n",
       "Yonne                         802           456           346\n",
       "Yvelines                     4321          1913          2408\n",
       "\n",
       "[101 rows x 3 columns]"
      ]
     },
     "execution_count": 577,
     "metadata": {},
     "output_type": "execute_result"
    }
   ],
   "source": [
    "dfDensiteMedecinRes = pd.concat([dfDensiteMedecins, dfDensiteGeneralistes, dfDensiteSpecialistes], axis=1)\n",
    "dfDensiteMedecinRes"
   ]
  },
  {
   "cell_type": "code",
   "execution_count": 589,
   "metadata": {
    "collapsed": false
   },
   "outputs": [
    {
     "data": {
      "text/plain": [
       "<matplotlib.axes._subplots.AxesSubplot at 0x11c39c4a8>"
      ]
     },
     "execution_count": 589,
     "metadata": {},
     "output_type": "execute_result"
    },
    {
     "data": {
      "image/png": "[encoded data removed]",
      "text/plain": [
       "<matplotlib.figure.Figure at 0x11f28fb00>"
      ]
     },
     "metadata": {},
     "output_type": "display_data"
    }
   ],
   "source": [
    "# Histogramme représentant les top 10 départements avec la plus grande densité de médecins (généralistes + spécialistes)\n",
    "top_departements = 10\n",
    "densiteMedecinsSorted = dfDensiteMedecinRes.sort_values(by=\"Medecins\", ascending=False)\n",
    "densiteMedecinsSorted.ix[:top_departements].plot.bar(title=\"Top 10 département avec la plus forte densité de médecins (Généralistes/ Spécialistes)\")  # Top 10 départements avec la plus grande densité de médecins"
   ]
  },
  {
   "cell_type": "markdown",
   "metadata": {},
   "source": [
    "## Densité de population par département"
   ]
  },
  {
   "cell_type": "code",
   "execution_count": 527,
   "metadata": {
    "collapsed": false
   },
   "outputs": [
    {
     "name": "stdout",
     "output_type": "stream",
     "text": [
      "                         Population\n",
      "Département                        \n",
      "Ain                          316760\n",
      "Aisne                        277300\n",
      "Allier                       177973\n",
      "Alpes-de-Haute-Provence       83599\n",
      "Hautes-Alpes                  72957\n",
      "Alpes-Maritimes              568112\n",
      "Ardèche                      164938\n",
      "Ardennes                     144196\n",
      "Ariège                        78140\n",
      "Aube                         157780\n",
      "Aude                         190780\n",
      "Aveyron                      140131\n",
      "Bouches-du-Rhône            1040612\n",
      "Calvados                     357807\n",
      "Cantal                        75446\n",
      "Charente                     182690\n",
      "Charente-Maritime            330196\n",
      "Cher                         160360\n",
      "Corrèze                      123539\n",
      "Corse-du-Sud                  76367\n",
      "Haute-Corse                   88536\n",
      "Côte-d'Or                    272573\n",
      "Côtes-d'Armor                309317\n",
      "Creuse                        61747\n",
      "Dordogne                     217049\n",
      "Doubs                        272956\n",
      "Drôme                        254873\n",
      "Eure                         304781\n",
      "Eure-et-Loir                 222949\n",
      "Finistère                    464866\n",
      "...                             ...\n",
      "Haute-Saône                  121338\n",
      "Saône-et-Loire               284873\n",
      "Sarthe                       292697\n",
      "Savoie                       216923\n",
      "Haute-Savoie                 396057\n",
      "Paris                       1185456\n",
      "Seine-Maritime               652055\n",
      "Seine-et-Marne               706031\n",
      "Yvelines                     725404\n",
      "Deux-Sèvres                  190670\n",
      "Somme                        293617\n",
      "Tarn                         197503\n",
      "Tarn-et-Garonne              128777\n",
      "Var                          535144\n",
      "Vaucluse                     286661\n",
      "Vendée                       337632\n",
      "Vienne                       223168\n",
      "Haute-Vienne                 195858\n",
      "Vosges                       192301\n",
      "Yonne                        175422\n",
      "Territoire de Belfort         72573\n",
      "Essonne                      642325\n",
      "Hauts-de-Seine               837015\n",
      "Seine-Saint-Denis            789807\n",
      "Val-de-Marne                 704811\n",
      "Val-d'Oise                   615107\n",
      "Guadeloupe                   217515\n",
      "Martinique                   206520\n",
      "Guyane                       125218\n",
      "La Réunion                   436606\n",
      "\n",
      "[100 rows x 1 columns]\n"
     ]
    }
   ],
   "source": [
    "# Population par département et tranche d'âge (année 2014, source: INSEE)\n",
    "table = pd.read_excel(\"popDepAge.xls\", sheetname = 1, skiprows= [0, 1, 2, 3], encode = 'utf-8')\n",
    "table = table[['Unnamed: 1', 'Total.2']].dropna()\n",
    "table.columns = ['Département', 'Population']\n",
    "table.Département = table.Département.str.strip()\n",
    "table.Département = table.Département.apply(lambda x: \"Nord-Pas-de-Calais\" if(x == \"Pas-de-Calais\") else x)\n",
    "table.Population = table.Population.astype(int)\n",
    "table = table.set_index(\"Département\")\n",
    "print(table)"
   ]
  },
  {
   "cell_type": "code",
   "execution_count": 528,
   "metadata": {
    "collapsed": false
   },
   "outputs": [
    {
     "name": "stdout",
     "output_type": "stream",
     "text": [
      "set()\n"
     ]
    }
   ],
   "source": [
    "# Mayotte is not present in the second dataset\n",
    "print(set(dfDensiteMedecins.index.unique()) - set(table.index.unique()))"
   ]
  },
  {
   "cell_type": "code",
   "execution_count": 529,
   "metadata": {
    "collapsed": false
   },
   "outputs": [
    {
     "name": "stdout",
     "output_type": "stream",
     "text": [
      "set()\n"
     ]
    }
   ],
   "source": [
    "# After removing row corresponding to department Mayotte\n",
    "# dfDensiteMedecins = dfDensiteMedecins.drop([\"Mayotte\"])\n",
    "print(set(dfDensiteMedecins.index.unique()) - set(table.index.unique()))"
   ]
  },
  {
   "cell_type": "code",
   "execution_count": 598,
   "metadata": {
    "collapsed": false
   },
   "outputs": [],
   "source": [
    "table.sort_values(by=\"Population\", ascending=False)\n",
    "# Top 10 départements en terme de population\n",
    "topDepartementPop = table.ix[:10]"
   ]
  },
  {
   "cell_type": "code",
   "execution_count": 599,
   "metadata": {
    "collapsed": false
   },
   "outputs": [],
   "source": [
    "# Merge (sur le départment) entre dfDensiteMedecins et table \n",
    "resultingDf = pd.merge(left=dfDensiteMedecinRes, right=table, how=\"inner\", left_index=True, right_index=True)\n",
    "resultingDf.index.name = \"Département\""
   ]
  },
  {
   "cell_type": "code",
   "execution_count": 600,
   "metadata": {
    "collapsed": false
   },
   "outputs": [
    {
     "name": "stdout",
     "output_type": "stream",
     "text": [
      "                         Medecins  Generalistes  Specialistes  Population  \\\n",
      "Département                                                                 \n",
      "Ain                          1203           694           509      316760   \n",
      "Aisne                        1235           626           609      277300   \n",
      "Allier                        966           506           460      177973   \n",
      "Alpes-de-Haute-Provence       485           293           192       83599   \n",
      "Hautes-Alpes                  573           321           252       72957   \n",
      "\n",
      "                         Ratio(%) Densité  \n",
      "Département                                \n",
      "Ain                      0.379783      --  \n",
      "Aisne                    0.445366      --  \n",
      "Allier                   0.542779       -  \n",
      "Alpes-de-Haute-Provence  0.580150       +  \n",
      "Hautes-Alpes             0.785394      ++  \n"
     ]
    }
   ],
   "source": [
    "# Détermination du ratio médecin/population total par département\n",
    "resultingDf['Ratio(%)'] = resultingDf.apply(lambda x: x.Medecins / x.Population * 100, axis=1)\n",
    "# Catégirisation en 4 type de densité dépendant du rapport (Medecins/Population)\n",
    "categories = pd.qcut(resultingDf[\"Ratio(%)\"], 4, labels=[\"--\",\"-\",\"+\",\"++\"])\n",
    "resultingDf[\"Densité\"] = categories\n",
    "print(resultingDf.head(5))"
   ]
  },
  {
   "cell_type": "code",
   "execution_count": 601,
   "metadata": {
    "collapsed": false
   },
   "outputs": [
    {
     "data": {
      "text/plain": [
       "<matplotlib.axes._subplots.AxesSubplot at 0x11c703278>"
      ]
     },
     "execution_count": 601,
     "metadata": {},
     "output_type": "execute_result"
    },
    {
     "data": {
      "image/png": "[encoded data removed]",
      "text/plain": [
       "<matplotlib.figure.Figure at 0x11b3c0b38>"
      ]
     },
     "metadata": {},
     "output_type": "display_data"
    }
   ],
   "source": [
    "# Top 10 départements \n",
    "sortedResultingDf = resultingDf.sort_values(by=\"Ratio(%)\", ascending=False)[:10]\n",
    "sortedResultingDf[\"Ratio(%)\"].plot.bar(title=\"Top 10 département en terme de ratio (Population/Medecins(%))\", )"
   ]
  },
  {
   "cell_type": "markdown",
   "metadata": {},
   "source": [
    "## Dépassement d'honoraires par département"
   ]
  },
  {
   "cell_type": "code",
   "execution_count": 670,
   "metadata": {
    "collapsed": false
   },
   "outputs": [],
   "source": [
    "# Fichier honoraires trouvé sur AMELI (année 2014)\n",
    "data = pd.read_excel(\"Honoraires2014.xls\", sheetname=[1, 2, 3, 4, 5, 6])"
   ]
  },
  {
   "cell_type": "code",
   "execution_count": 671,
   "metadata": {
    "collapsed": true
   },
   "outputs": [],
   "source": [
    "# Sheet des spécialistes\n",
    "df = data[2]\n",
    "# Supprimer lignes contenant des na\n",
    "df = df.replace('nc', np.nan).dropna()\n",
    "# Supprimer les lignes avec effecitif = 0\n",
    "df= df[df['EFFECTIFS'] > 0]"
   ]
  },
  {
   "cell_type": "code",
   "execution_count": 672,
   "metadata": {
    "collapsed": false
   },
   "outputs": [
    {
     "name": "stdout",
     "output_type": "stream",
     "text": [
      "                    DEPASSEMENTS (Euros)  TOTAL DES HONORAIRES (Euros)\n",
      "DEPARTEMENT                                                           \n",
      "Ain                           13382143.0                  1.275610e+08\n",
      "Aisne                          5728789.0                  1.453298e+08\n",
      "Allier                         6450730.0                  1.075800e+08\n",
      "Alpes-Hte-Provence             2624229.0                  4.993862e+07\n",
      "Hautes-Alpes                   1057771.0                  4.048806e+07\n",
      "Alpes-Maritimes               97645685.0                  5.722508e+08\n",
      "Ardèche                        8761979.0                  8.955529e+07\n",
      "Ardennes                       1315061.0                  6.692853e+07\n",
      "Ariège                          640831.0                  3.404749e+07\n",
      "Aube                           7502902.0                  8.745800e+07\n",
      "Aude                           4324056.0                  1.218953e+08\n",
      "Aveyron                        2100480.0                  6.449872e+07\n",
      "Bouches-du-Rhône              76260444.0                  9.060715e+08\n",
      "Calvados                      18613324.0                  2.461950e+08\n",
      "Cantal                          535722.0                  4.448648e+07\n",
      "Charente                       7491201.0                  1.100217e+08\n",
      "Charente-Maritime             14221589.0                  2.136056e+08\n",
      "Cher                           5177764.0                  8.313698e+07\n",
      "Corrèze                        5710774.0                  8.096462e+07\n",
      "Corse-du-Sud                   2728516.0                  5.730949e+07\n",
      "Haute-Corse                    3991222.0                  6.416517e+07\n",
      "Côte-d'Or                     23762430.0                  2.088435e+08\n",
      "Côtes-d'Armor                  5195999.0                  1.668225e+08\n",
      "Creuse                          315905.0                  2.543038e+07\n",
      "Dordogne                       6607902.0                  1.182085e+08\n",
      "Doubs                         11525357.0                  1.838362e+08\n",
      "Drôme                         12207071.0                  1.454133e+08\n",
      "Eure                          10518450.0                  1.265626e+08\n",
      "Eure-et-Loir                   8730224.0                  1.116018e+08\n",
      "Finistère                      9022668.0                  2.776519e+08\n",
      "...                                  ...                           ...\n",
      "Saône-et-Loire                16257927.0                  1.577285e+08\n",
      "Sarthe                        12866506.0                  1.809826e+08\n",
      "Savoie                        15844922.0                  1.418451e+08\n",
      "Haute-Savoie                  32092763.0                  2.185956e+08\n",
      "Paris (Ville)                601467299.0                  1.467213e+09\n",
      "Seine-Maritime                27996363.0                  4.500267e+08\n",
      "Seine-et-Marne                58436287.0                  3.906292e+08\n",
      "Yvelines                     112752315.0                  4.925726e+08\n",
      "Deux-Sèvres                    4090460.0                  9.299381e+07\n",
      "Somme                         12824363.0                  2.133848e+08\n",
      "Tarn                           4165221.0                  1.315528e+08\n",
      "Tarn-et-Garonne                5573010.0                  9.452471e+07\n",
      "Var                           40149944.0                  4.410550e+08\n",
      "Vaucluse                      23554583.0                  2.197209e+08\n",
      "Vendée                         7347065.0                  1.547563e+08\n",
      "Vienne                         8908681.0                  1.330164e+08\n",
      "Haute-Vienne                   9397836.0                  1.355943e+08\n",
      "Vosges                         5078312.0                  1.030346e+08\n",
      "Yonne                          8141046.0                  9.322860e+07\n",
      "Terr. de Belfort               1520401.0                  3.798412e+07\n",
      "Essonne                       63026175.0                  4.015265e+08\n",
      "Hauts-de-Seine               174825797.0                  6.287798e+08\n",
      "Seine-St-Denis                43271032.0                  4.298229e+08\n",
      "Val-de-Marne                  74584827.0                  3.997627e+08\n",
      "Val-d'Oise                    58928266.0                  3.761220e+08\n",
      "Guadeloupe                     4896905.0                  1.220404e+08\n",
      "Martinique                     7337856.0                  9.719304e+07\n",
      "Guyane                          987496.0                  3.416744e+07\n",
      "Réunion                        7784046.0                  3.362121e+08\n",
      "Mayotte                          96002.0                  5.358526e+06\n",
      "\n",
      "[101 rows x 2 columns]\n"
     ]
    }
   ],
   "source": [
    "# Médecins en général (Spécialistes + Généralistes)\n",
    "dfMed = df[df['Spécialistes'].str.contains('TOTAL MEDECINS')== True]\n",
    "dfMed = dfMed[[\"DEPARTEMENT\", \"DEPASSEMENTS (Euros)\", \"TOTAL DES HONORAIRES (Euros)\"]]\n",
    "pattern = \"^[\\d+]\"\n",
    "dfMed = dfMed[dfMed.DEPARTEMENT.str.contains(pattern)]\n",
    "dfMed.DEPARTEMENT = dfMed.DEPARTEMENT.apply(lambda x: x.split(\"- \")[1])\n",
    "dfMed = dfMed.set_index(\"DEPARTEMENT\")\n",
    "\n",
    "print(dfMed)"
   ]
  },
  {
   "cell_type": "code",
   "execution_count": 673,
   "metadata": {
    "collapsed": false
   },
   "outputs": [
    {
     "name": "stdout",
     "output_type": "stream",
     "text": [
      "                    DEPASSEMENTS (Euros)  TOTAL DES HONORAIRES (Euros)\n",
      "DEPARTEMENT                                                           \n",
      "Ain                           12283070.0                  6.515420e+07\n",
      "Aisne                          4643228.0                  7.242137e+07\n",
      "Allier                         6132710.0                  6.185132e+07\n",
      "Alpes-Hte-Provence             2100632.0                  2.232213e+07\n",
      "Hautes-Alpes                    671152.0                  1.920323e+07\n",
      "Alpes-Maritimes               87497183.0                  4.031913e+08\n",
      "Ardèche                        8197017.0                  4.819734e+07\n",
      "Ardennes                       1066483.0                  2.485280e+07\n",
      "Ariège                          587234.0                  1.064864e+07\n",
      "Aube                           7043095.0                  4.835851e+07\n",
      "Aude                           3948336.0                  6.606911e+07\n",
      "Aveyron                        1768631.0                  2.655916e+07\n",
      "Bouches-du-Rhône              70366936.0                  6.024094e+08\n",
      "Calvados                      17142292.0                  1.507035e+08\n",
      "Cantal                          459424.0                  2.233976e+07\n",
      "Charente                       6933585.0                  6.387454e+07\n",
      "Charente-Maritime             12790206.0                  1.173664e+08\n",
      "Cher                           4422580.0                  4.600779e+07\n",
      "Corrèze                        5235431.0                  4.365095e+07\n",
      "Corse-du-Sud                   2541278.0                  3.514500e+07\n",
      "Haute-Corse                    3765431.0                  4.036451e+07\n",
      "Côte-d'Or                     22103365.0                  1.361325e+08\n",
      "Côtes-d'Armor                  4371212.0                  8.798716e+07\n",
      "Creuse                          196901.0                  8.458803e+06\n",
      "Dordogne                       5924779.0                  6.139983e+07\n",
      "Doubs                         10548094.0                  1.083922e+08\n",
      "Drôme                         10597942.0                  8.321503e+07\n",
      "Eure                           8864149.0                  5.668124e+07\n",
      "Eure-et-Loir                   7563774.0                  6.232851e+07\n",
      "Finistère                      7626840.0                  1.532892e+08\n",
      "...                                  ...                           ...\n",
      "Haute-Saône                    1273501.0                  1.831623e+07\n",
      "Saône-et-Loire                14913912.0                  9.270634e+07\n",
      "Sarthe                        11681507.0                  1.124311e+08\n",
      "Savoie                        13760640.0                  8.269190e+07\n",
      "Haute-Savoie                  27761372.0                  1.338734e+08\n",
      "Paris (Ville)                535612882.0                  1.172020e+09\n",
      "Seine-Maritime                25687411.0                  2.716635e+08\n",
      "Seine-et-Marne                48055182.0                  2.356778e+08\n",
      "Yvelines                      97596436.0                  3.273419e+08\n",
      "Deux-Sèvres                    3810870.0                  4.378932e+07\n",
      "Somme                         11909260.0                  1.168873e+08\n",
      "Tarn                           3821648.0                  7.842168e+07\n",
      "Tarn-et-Garonne                5080303.0                  5.832754e+07\n",
      "Var                           34970808.0                  2.808067e+08\n",
      "Vaucluse                      21100763.0                  1.419533e+08\n",
      "Vendée                         6169248.0                  7.223361e+07\n",
      "Vienne                         7943177.0                  7.317660e+07\n",
      "Haute-Vienne                   8761320.0                  7.512993e+07\n",
      "Vosges                         4376414.0                  4.903721e+07\n",
      "Yonne                          6898525.0                  5.126263e+07\n",
      "Terr. de Belfort               1253679.0                  2.054709e+07\n",
      "Essonne                       54999451.0                  2.610896e+08\n",
      "Hauts-de-Seine               151448811.0                  4.605484e+08\n",
      "Seine-St-Denis                38845215.0                  2.536739e+08\n",
      "Val-de-Marne                  64696451.0                  2.564446e+08\n",
      "Val-d'Oise                    51393281.0                  2.390192e+08\n",
      "Guadeloupe                     4226719.0                  6.872816e+07\n",
      "Martinique                     6697606.0                  5.029989e+07\n",
      "Guyane                          935411.0                  1.202550e+07\n",
      "Réunion                        7482037.0                  1.504323e+08\n",
      "\n",
      "[100 rows x 2 columns]\n"
     ]
    }
   ],
   "source": [
    "# Spécialistes\n",
    "dfSpe = df[df['Spécialistes'].str.contains('TOTAL SPECIALISTES') == True]\n",
    "dfSpe = dfSpe[[\"DEPARTEMENT\", \"DEPASSEMENTS (Euros)\", \"TOTAL DES HONORAIRES (Euros)\"]]\n",
    "pattern = \"^[\\d+]\"\n",
    "dfSpe = dfSpe[dfSpe.DEPARTEMENT.str.contains(pattern)]\n",
    "dfSpe.DEPARTEMENT = dfSpe.DEPARTEMENT.apply(lambda x: x.split(\"- \")[1])\n",
    "dfSpe = dfSpe.set_index(\"DEPARTEMENT\")\n",
    "print(dfSpe)"
   ]
  },
  {
   "cell_type": "code",
   "execution_count": 676,
   "metadata": {
    "collapsed": false
   },
   "outputs": [
    {
     "name": "stdout",
     "output_type": "stream",
     "text": [
      "                      DEPASSEMENTS (Euros)  TOTAL DES HONORAIRES (Euros)\n",
      "DEPARTEMENT                                                             \n",
      "Ain                              1099073.0                    62406814.0\n",
      "Aisne                            1085561.0                    72908376.0\n",
      "Allier                            318020.0                    45728700.0\n",
      "Alpes-Hte-Provence                523597.0                    27616491.0\n",
      "Alpes-Maritimes                 10148502.0                   169059482.0\n",
      "Ardennes                          248578.0                    42075730.0\n",
      "Ardèche                           564962.0                    41357956.0\n",
      "Ariège                             53597.0                    23398849.0\n",
      "Aube                              459807.0                    39099489.0\n",
      "Aude                              375720.0                    55826241.0\n",
      "Aveyron                           331849.0                    37939569.0\n",
      "Bas-Rhin                         6850867.0                   190580532.0\n",
      "Bouches-du-Rhône                 5893508.0                   303662187.0\n",
      "Calvados                         1471032.0                    95491500.0\n",
      "Cantal                             76298.0                    22146728.0\n",
      "Charente                          557616.0                    46147140.0\n",
      "Charente-Maritime                1431383.0                    96239174.0\n",
      "Cher                              755184.0                    37129195.0\n",
      "Corrèze                           475343.0                    37313673.0\n",
      "Corse-du-Sud                      187238.0                    22164494.0\n",
      "Creuse                            119004.0                    16971579.0\n",
      "Côte-d'Or                        1659065.0                    72710989.0\n",
      "Côtes-d'Armor                     824787.0                    78835302.0\n",
      "Deux-Sèvres                       279590.0                    49204491.0\n",
      "Dordogne                          683123.0                    56808622.0\n",
      "Doubs                             977263.0                    75444017.0\n",
      "Drôme                            1609129.0                    62198269.0\n",
      "Essonne                          8026724.0                   140436959.0\n",
      "Eure                             1654301.0                    69881397.0\n",
      "Eure-et-Loir                     1166450.0                    49273328.0\n",
      "...                                    ...                           ...\n",
      "Nièvre                            201241.0                    28786197.0\n",
      "Nord                             6562166.0                   429910018.0\n",
      "Oise                             3044601.0                    96971490.0\n",
      "Orne                              186402.0                    34442967.0\n",
      "Paris (Ville)                   65854417.0                   295192619.0\n",
      "Pas-de-Calais                    2218916.0                   242503121.0\n",
      "Puy-de-Dôme                      2032449.0                    88668037.0\n",
      "Pyrénées-Atlantiques             1827566.0                    95697658.0\n",
      "Pyrénées-Orientales              1072240.0                    83810760.0\n",
      "Rhône                           16345904.0                   221683313.0\n",
      "Réunion                           302009.0                   185779843.0\n",
      "Sarthe                           1184999.0                    68551502.0\n",
      "Savoie                           2084282.0                    59153235.0\n",
      "Saône-et-Loire                   1344015.0                    65022179.0\n",
      "Seine-Maritime                   2308952.0                   178363255.0\n",
      "Seine-St-Denis                   4425817.0                   176149006.0\n",
      "Seine-et-Marne                  10381105.0                   154951398.0\n",
      "Somme                             915103.0                    96497449.0\n",
      "Tarn                              343573.0                    53131110.0\n",
      "Tarn-et-Garonne                   492707.0                    36197167.0\n",
      "Terr. de Belfort                  266722.0                    17437028.0\n",
      "Val-d'Oise                       7534985.0                   137102745.0\n",
      "Val-de-Marne                     9888376.0                   143318012.0\n",
      "Var                              5179136.0                   160248328.0\n",
      "Vaucluse                         2453820.0                    77767641.0\n",
      "Vendée                           1177817.0                    82522641.0\n",
      "Vienne                            965504.0                    59839802.0\n",
      "Vosges                            701898.0                    53997405.0\n",
      "Yonne                            1242521.0                    41965973.0\n",
      "Yvelines                        15155879.0                   165230651.0\n",
      "\n",
      "[100 rows x 2 columns]\n"
     ]
    }
   ],
   "source": [
    "# Généralistes\n",
    "dfGen = dfMedGen - dfSpe \n",
    "dfGen = dfGen.dropna()\n"
   ]
  },
  {
   "cell_type": "code",
   "execution_count": 615,
   "metadata": {
    "collapsed": false
   },
   "outputs": [],
   "source": [
    "df_honoraire = df_honoraire.pivot('DEPARTEMENT','Spécialistes', 'DEPASSEMENTS (Euros)')"
   ]
  },
  {
   "cell_type": "code",
   "execution_count": 618,
   "metadata": {
    "collapsed": false
   },
   "outputs": [
    {
     "name": "stdout",
     "output_type": "stream",
     "text": [
      "93\n"
     ]
    }
   ],
   "source": []
  },
  {
   "cell_type": "code",
   "execution_count": 474,
   "metadata": {
    "collapsed": false
   },
   "outputs": [
    {
     "name": "stdout",
     "output_type": "stream",
     "text": [
      "Colonnes: Index(['Spécialistes', 'DEPARTEMENT', 'EFFECTIFS',\n",
      "       'HONORAIRES SANS DEPASSEMENT (Euros)', 'DEPASSEMENTS (Euros)',\n",
      "       'FRAIS DE DEPLACEMENT (Euros)', 'TOTAL DES HONORAIRES (Euros)'],\n",
      "      dtype='object')\n"
     ]
    }
   ],
   "source": [
    "print(\"Colonnes: {}\".format( df.columns))"
   ]
  },
  {
   "cell_type": "code",
   "execution_count": 46,
   "metadata": {
    "collapsed": false
   },
   "outputs": [],
   "source": [
    "# Import file (returns an Excel table inside a DataFrame)\n",
    "table = pd.read_excel(\"Data2014/Honoraires2014.xls\", sheetname = [1, 2, 3, 4, 5, 6], encode = 'utf-8')"
   ]
  },
  {
   "cell_type": "code",
   "execution_count": 68,
   "metadata": {
    "collapsed": false
   },
   "outputs": [
    {
     "name": "stdout",
     "output_type": "stream",
     "text": [
      "Size before eliminating NA values: (5459, 7)\n",
      "Size after eliminating NA values: (3242, 7)\n",
      "Index(['Spécialistes', 'DEPARTEMENT', 'EFFECTIFS',\n",
      "       'HONORAIRES SANS DEPASSEMENT (Euros)', 'DEPASSEMENTS (Euros)',\n",
      "       'FRAIS DE DEPLACEMENT (Euros)', 'TOTAL DES HONORAIRES (Euros)'],\n",
      "      dtype='object')\n"
     ]
    }
   ],
   "source": [
    "# Second element of the dictionary\n",
    "df = table[2]\n",
    "print(\"Size before eliminating NA values: {}\".format(df.shape))\n",
    "df = df.replace('nc', np.nan).dropna()\n",
    "print(\"Size after eliminating NA values: {}\".format(df.shape))\n",
    "# We observe that lines corresponding to a department contains an (- ) "
   ]
  },
  {
   "cell_type": "code",
   "execution_count": 69,
   "metadata": {
    "collapsed": false
   },
   "outputs": [],
   "source": [
    "departments = df[df[\"DEPARTEMENT\"].str.contains(\"- \")][\"DEPARTEMENT\"]"
   ]
  },
  {
   "cell_type": "code",
   "execution_count": 98,
   "metadata": {
    "collapsed": false
   },
   "outputs": [],
   "source": [
    "df.columns = df.columns.map(lambda x: x.replace('\\xe9','e').lower())"
   ]
  },
  {
   "cell_type": "code",
   "execution_count": 79,
   "metadata": {
    "collapsed": false
   },
   "outputs": [
    {
     "name": "stdout",
     "output_type": "stream",
     "text": [
      "Index(['Spécialistes', 'Departement', 'Effectifs',\n",
      "       'Honoraires-Sans-Depassement-(Euros)', 'Depassements-(Euros)',\n",
      "       'Frais-De-Deplacement-(Euros)', 'Total-Des-Honoraires-(Euros)'],\n",
      "      dtype='object')\n"
     ]
    }
   ],
   "source": []
  },
  {
   "cell_type": "code",
   "execution_count": 75,
   "metadata": {
    "collapsed": false
   },
   "outputs": [
    {
     "name": "stdout",
     "output_type": "stream",
     "text": [
      "Index(['Spécialistes', 'Departement', 'Effectifs',\n",
      "       'Honoraires-Sans-Depassement-(Euros)', 'Depassements-(Euros)',\n",
      "       'Frais-De-Deplacement-(Euros)', 'Total-Des-Honoraires-(Euros)'],\n",
      "      dtype='object')\n"
     ]
    }
   ],
   "source": [
    "print(a)"
   ]
  },
  {
   "cell_type": "code",
   "execution_count": null,
   "metadata": {
    "collapsed": true
   },
   "outputs": [],
   "source": []
  }
 ],
 "metadata": {
  "anaconda-cloud": {},
  "kernelspec": {
   "display_name": "Python [conda root]",
   "language": "python",
   "name": "conda-root-py"
  },
  "language_info": {
   "codemirror_mode": {
    "name": "ipython",
    "version": 3
   },
   "file_extension": ".py",
   "mimetype": "text/x-python",
   "name": "python",
   "nbconvert_exporter": "python",
   "pygments_lexer": "ipython3",
   "version": "3.5.2"
  }
 },
 "nbformat": 4,
 "nbformat_minor": 1
}
